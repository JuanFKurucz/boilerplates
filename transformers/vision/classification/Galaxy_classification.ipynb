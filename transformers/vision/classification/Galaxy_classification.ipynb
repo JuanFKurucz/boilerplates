{
  "cells": [
    {
      "cell_type": "markdown",
      "metadata": {
        "id": "iLCcfbORDtKT"
      },
      "source": [
        "# Requirements"
      ]
    },
    {
      "cell_type": "code",
      "execution_count": null,
      "metadata": {
        "colab": {
          "base_uri": "https://localhost:8080/"
        },
        "id": "HGe9H7csDr53",
        "outputId": "2ac60569-db79-4a8e-9019-efc641841632"
      },
      "outputs": [],
      "source": [
        "!pip install astroNN transformers datasets accelerate evaluate albumentations "
      ]
    },
    {
      "cell_type": "markdown",
      "metadata": {
        "id": "8PB75RUgDyTm"
      },
      "source": [
        "# Imports"
      ]
    },
    {
      "cell_type": "code",
      "execution_count": null,
      "metadata": {
        "colab": {
          "base_uri": "https://localhost:8080/"
        },
        "id": "nrcfjs15emQe",
        "outputId": "f6e51fa7-8957-42af-80ce-bd76475f04b0"
      },
      "outputs": [],
      "source": [
        "import os\n",
        "import random\n",
        "\n",
        "random.seed(1337)\n",
        "\n",
        "import ssl\n",
        "\n",
        "import numpy as np\n",
        "import cv2\n",
        "from PIL import Image, ImageDraw, ImageFont\n",
        "from sklearn.model_selection import train_test_split\n",
        "\n",
        "ssl._create_default_https_context = ssl._create_stdlib_context\n",
        "\n",
        "import torch\n",
        "import albumentations as A\n",
        "from astroNN.datasets import galaxy10\n",
        "from datasets import load_dataset, load_metric\n",
        "from transformers import (\n",
        "    Trainer,\n",
        "    TrainingArguments,\n",
        "    AutoFeatureExtractor,\n",
        "    AutoModelForImageClassification,\n",
        ")"
      ]
    },
    {
      "cell_type": "markdown",
      "metadata": {
        "id": "CwSxwHtKVse2"
      },
      "source": [
        "# Data Prep"
      ]
    },
    {
      "cell_type": "code",
      "execution_count": null,
      "metadata": {
        "id": "UiwpnToQiKux"
      },
      "outputs": [],
      "source": [
        "import shutil\n",
        "try:\n",
        "  shutil.rmtree(\"./data/\")\n",
        "except:\n",
        "  pass\n",
        "try:\n",
        "  shutil.rmtree(\"./vit-base-beans/\")\n",
        "except:\n",
        "  pass"
      ]
    },
    {
      "cell_type": "code",
      "execution_count": null,
      "metadata": {
        "colab": {
          "base_uri": "https://localhost:8080/"
        },
        "id": "Mx-hR8lFfIlb",
        "outputId": "713e0616-f41d-41a3-a546-b3198568c6b6"
      },
      "outputs": [],
      "source": [
        "images, labels = galaxy10.load_data()\n",
        "x_train, x_test, y_train, y_test = train_test_split(\n",
        "    images, labels, test_size=0.2, random_state=1337, stratify=labels, shuffle=True\n",
        ")\n",
        "\n",
        "features = [\n",
        "    \"Disk, Face-on, No Spiral\",\n",
        "    \"Smooth, Completely round\",\n",
        "    \"Smooth, in-between round\",\n",
        "    \"Smooth, Cigar shaped\",\n",
        "    \"Disk, Edge-on, Rounded Bulge\",\n",
        "    \"Disk, Edge-on, Boxy Bulge\",\n",
        "    \"Disk, Edge-on, No Bulge\",\n",
        "    \"Disk, Face-on, Tight Spiral\",\n",
        "    \"Disk, Face-on, Medium Spiral\",\n",
        "    \"Disk, Face-on, Loose Spiral\",\n",
        "]\n",
        "for i in range(len(features)):\n",
        "    try:\n",
        "        os.makedirs(f\"./data/train/{i}\")\n",
        "    except:\n",
        "        pass\n",
        "    try:\n",
        "        os.makedirs(f\"./data/test/{i}\")\n",
        "    except:\n",
        "        pass\n",
        "\n",
        "for i in range(len(x_train)):\n",
        "    im = Image.fromarray(np.uint8(x_train[i])).convert(\"RGB\")\n",
        "    im.save(f\"./data/train/{y_train[i]}/{i}.png\")\n",
        "\n",
        "for i in range(len(x_test)):\n",
        "    im = Image.fromarray(np.uint8(x_test[i])).convert(\"RGB\")\n",
        "    im.save(f\"./data/test/{y_test[i]}/{i}.png\")"
      ]
    },
    {
      "cell_type": "markdown",
      "metadata": {
        "id": "G9g7pK-wVtwK"
      },
      "source": [
        "# Dataset load"
      ]
    },
    {
      "cell_type": "code",
      "execution_count": null,
      "metadata": {
        "colab": {
          "base_uri": "https://localhost:8080/",
          "height": 49,
          "referenced_widgets": [
            "e4f78acdf3b94687ab81d58f77e52830",
            "9d06823db29a438282075dd64e49296e",
            "32960afd706e4ffcb63e5f4bb87614b1",
            "59cca1b2462d4a1eade6d45882a4e3a5",
            "5c8f9ffa6e6c40b2a93bb5173ce364da",
            "a0b39617e93d416cbf8d269858f2d680",
            "337bd93519be4998afc2bc5ed4b98658",
            "dd3ffa5d2d9b4ca6a7be2e73be3b0647",
            "2bfe6d90e72942d882bb081f14b76d25",
            "dd65414ecb2b4a118aee83c0ecfa2eb6",
            "75850e5a3de44f0987bd09e22113c955"
          ]
        },
        "id": "bakC9OpjSczr",
        "outputId": "bec94915-a802-4c1c-f188-b9b85238b9a6"
      },
      "outputs": [],
      "source": [
        "ds = load_dataset(\"imagefolder\", data_dir=\"./data\")\n",
        "print(ds)"
      ]
    },
    {
      "cell_type": "markdown",
      "metadata": {
        "id": "YvvzqarCVweM"
      },
      "source": [
        "# Data exploring"
      ]
    },
    {
      "cell_type": "code",
      "execution_count": null,
      "metadata": {
        "id": "x76lROIUTBKj"
      },
      "outputs": [],
      "source": [
        "def show_examples(ds, seed: int = 1234, examples_per_class: int = 3, size=(350, 350)):\n",
        "\n",
        "    w, h = size\n",
        "    labels = ds[\"train\"].features[\"label\"].names\n",
        "    grid = Image.new(\"RGB\", size=(examples_per_class * w, len(labels) * h))\n",
        "    draw = ImageDraw.Draw(grid)\n",
        "    font = ImageFont.truetype(\n",
        "        \"C:\\\\Users\\\\USUARIO\\Downloads\\\\liberation_mono\\\\LiberationMono-Bold.ttf\", 24\n",
        "    )\n",
        "\n",
        "    for label_id, label in enumerate(labels):\n",
        "\n",
        "        # Filter the dataset by a single label, shuffle it, and grab a few samples\n",
        "        ds_slice = (\n",
        "            ds[\"train\"]\n",
        "            .filter(lambda ex: ex[\"label\"] == label_id)\n",
        "            .shuffle(seed)\n",
        "            .select(range(examples_per_class))\n",
        "        )\n",
        "\n",
        "        # Plot this label's examples along a row\n",
        "        for i, example in enumerate(ds_slice):\n",
        "            image = example[\"image\"]\n",
        "            idx = examples_per_class * label_id + i\n",
        "            box = (idx % examples_per_class * w, idx // examples_per_class * h)\n",
        "            grid.paste(image.resize(size), box=box)\n",
        "            draw.text(box, label, (255, 255, 255), font=font)\n",
        "\n",
        "    return grid\n",
        "\n",
        "\n",
        "show_examples(ds, seed=random.randint(0, 1337), examples_per_class=3)"
      ]
    },
    {
      "cell_type": "markdown",
      "metadata": {
        "id": "oc7YI8xlWlNE"
      },
      "source": [
        "# Data preprocessing"
      ]
    },
    {
      "cell_type": "code",
      "execution_count": null,
      "metadata": {
        "id": "jmO6Md2sfXFo"
      },
      "outputs": [],
      "source": [
        "model_name_or_path = \"google/vit-base-patch16-224-in21k\"\n",
        "feature_extractor = AutoFeatureExtractor.from_pretrained(model_name_or_path)"
      ]
    },
    {
      "cell_type": "code",
      "execution_count": null,
      "metadata": {
        "id": "cbm3auUDTsWc"
      },
      "outputs": [],
      "source": [
        "train_transforms = A.Compose([\n",
        "    A.RandomRotate90(),\n",
        "    A.HorizontalFlip(p=0.5),\n",
        "    A.RandomBrightnessContrast(p=0.2),\n",
        "    A.Normalize(),\n",
        "])\n",
        "\n",
        "val_transforms = A.Compose([\n",
        "    A.Normalize(),\n",
        "]) \n",
        "\n",
        "\n",
        "def transform(example_batch):\n",
        "    inputs = feature_extractor([x for x in example_batch[\"pixel_values\"]], return_tensors=\"pt\")\n",
        "    inputs[\"label\"] = example_batch[\"label\"]\n",
        "    return inputs\n",
        "\n",
        "def preprocess_train(examples):\n",
        "    examples[\"pixel_values\"] = [\n",
        "        train_transforms(image=np.array(image))[\"image\"] for image in examples[\"image\"]\n",
        "    ]\n",
        "\n",
        "    return transform(examples)\n",
        "\n",
        "def preprocess_val(examples):\n",
        "    examples[\"pixel_values\"] = [\n",
        "        val_transforms(image=np.array(image))[\"image\"] for image in examples[\"image\"]\n",
        "    ]\n",
        "\n",
        "    return transform(examples)"
      ]
    },
    {
      "cell_type": "code",
      "execution_count": null,
      "metadata": {
        "id": "IdgCEDCRTvWG"
      },
      "outputs": [],
      "source": [
        "train_ds = ds[\"train\"].with_transform(preprocess_train)\n",
        "test_ds = ds[\"test\"].with_transform(preprocess_val)"
      ]
    },
    {
      "cell_type": "code",
      "execution_count": null,
      "metadata": {
        "id": "fDVeMzHeTx6q"
      },
      "outputs": [],
      "source": [
        "def collate_fn(batch):\n",
        "    return {\n",
        "        \"pixel_values\": torch.stack([x[\"pixel_values\"] for x in batch]),\n",
        "        \"labels\": torch.tensor([x[\"label\"] for x in batch]),\n",
        "    }"
      ]
    },
    {
      "cell_type": "code",
      "execution_count": null,
      "metadata": {
        "id": "5QAKefZSTzVX"
      },
      "outputs": [],
      "source": [
        "metric = load_metric(\"f1\")\n",
        "\n",
        "def compute_metrics(p):\n",
        "    return metric.compute(\n",
        "        predictions=np.argmax(p.predictions, axis=1), references=p.label_ids, average=\"weighted\"\n",
        "    )"
      ]
    },
    {
      "cell_type": "code",
      "execution_count": null,
      "metadata": {
        "id": "E7Tb-H3TT1eD"
      },
      "outputs": [],
      "source": [
        "labels = ds[\"train\"].features[\"label\"].names\n",
        "\n",
        "model = AutoModelForImageClassification.from_pretrained(\n",
        "    model_name_or_path,\n",
        "    num_labels=len(labels),\n",
        "    id2label={str(i): c for i, c in enumerate(labels)},\n",
        "    label2id={c: str(i) for i, c in enumerate(labels)},\n",
        "    ignore_mismatched_sizes=True\n",
        ")"
      ]
    },
    {
      "cell_type": "markdown",
      "metadata": {
        "id": "eYOO9Za1Vo6Z"
      },
      "source": [
        "# Training"
      ]
    },
    {
      "cell_type": "code",
      "execution_count": null,
      "metadata": {
        "id": "6jXbz6PlHWB8"
      },
      "outputs": [],
      "source": [
        "training_args = TrainingArguments(\n",
        "    output_dir=\"./vit-base-beans\",\n",
        "    per_device_train_batch_size=16,\n",
        "    gradient_accumulation_steps=4,\n",
        "    gradient_checkpointing=True,\n",
        "    evaluation_strategy=\"steps\",\n",
        "    num_train_epochs=100,\n",
        "    # fp16=True,\n",
        "    tf32=True,\n",
        "    save_steps=100,\n",
        "    eval_steps=100,\n",
        "    logging_steps=10,\n",
        "    learning_rate=2e-4,\n",
        "    save_total_limit=2,\n",
        "    remove_unused_columns=False,\n",
        "    push_to_hub=False,\n",
        "    report_to=\"tensorboard\",\n",
        "    load_best_model_at_end=True\n",
        ")"
      ]
    },
    {
      "cell_type": "code",
      "execution_count": null,
      "metadata": {
        "id": "gyYub_cSHZOo"
      },
      "outputs": [],
      "source": [
        "trainer = Trainer(\n",
        "    model=model,\n",
        "    args=training_args,\n",
        "    data_collator=collate_fn,\n",
        "    compute_metrics=compute_metrics,\n",
        "    train_dataset=train_ds,\n",
        "    eval_dataset=test_ds,\n",
        "    tokenizer=feature_extractor,\n",
        ")"
      ]
    },
    {
      "cell_type": "code",
      "execution_count": null,
      "metadata": {
        "id": "2mKU6750I0cL"
      },
      "outputs": [],
      "source": [
        "train_results = trainer.train()\n",
        "trainer.save_model()\n",
        "trainer.log_metrics(\"train\", train_results.metrics)\n",
        "trainer.save_metrics(\"train\", train_results.metrics)\n",
        "trainer.save_state()"
      ]
    },
    {
      "cell_type": "markdown",
      "metadata": {
        "id": "4UI3EmCwVm3f"
      },
      "source": [
        "# Evaluation"
      ]
    },
    {
      "cell_type": "code",
      "execution_count": null,
      "metadata": {
        "id": "kAe4R008Vghy"
      },
      "outputs": [],
      "source": [
        "metrics = trainer.evaluate(test_ds)\n",
        "trainer.log_metrics(\"eval\", metrics)\n",
        "trainer.save_metrics(\"eval\", metrics)"
      ]
    },
    {
      "cell_type": "code",
      "execution_count": null,
      "metadata": {
        "id": "urukGbjXYx1b"
      },
      "outputs": [],
      "source": [
        "import torch\n",
        "import torch.nn.functional as F\n",
        "from sklearn import metrics\n",
        " \n",
        "y_preds = []\n",
        "y_trues = []\n",
        "for idx, data in enumerate(test_ds):\n",
        "  x = torch.unsqueeze(data[\"pixel_values\"], dim=0).cuda()\n",
        "  with torch.no_grad():\n",
        "    logits = model(x).logits\n",
        "  probability = torch.nn.functional.softmax(logits, dim=-1).cpu()\n",
        "  probs = probability[0].detach().numpy()\n",
        "  confidences = {label: float(probs[i]) for i, label in enumerate(labels)} \n",
        "  y_pred = max(confidences, key=confidences.get)\n",
        "  y_preds.append(y_pred)\n",
        "  y_trues.append(data[\"label\"])"
      ]
    },
    {
      "cell_type": "code",
      "execution_count": null,
      "metadata": {
        "id": "vBHOxaMpw3xN"
      },
      "outputs": [],
      "source": [
        "y_trues = [str(y) for y in y_trues]\n",
        "y_preds = [str(y) for y in y_preds]"
      ]
    },
    {
      "cell_type": "code",
      "execution_count": null,
      "metadata": {
        "id": "trSO_7NvuWsw"
      },
      "outputs": [],
      "source": [
        "confusion_matrix = metrics.confusion_matrix(y_trues, y_preds, labels=labels)\n",
        "print(confusion_matrix)"
      ]
    },
    {
      "cell_type": "code",
      "execution_count": null,
      "metadata": {
        "id": "KOOqtm08wVN9"
      },
      "outputs": [],
      "source": [
        "import seaborn as sns\n",
        "sns.heatmap(confusion_matrix, annot=True, fmt=\".0f\", linewidth=.1, cmap=\"crest\")"
      ]
    },
    {
      "cell_type": "code",
      "execution_count": null,
      "metadata": {
        "id": "MQcaAgJTwgyp"
      },
      "outputs": [],
      "source": [
        "from sklearn.metrics import classification_report\n",
        "print(classification_report(y_trues, y_preds, target_names=labels))"
      ]
    }
  ],
  "metadata": {
    "accelerator": "GPU",
    "colab": {
      "collapsed_sections": [
        "iLCcfbORDtKT",
        "8PB75RUgDyTm"
      ],
      "provenance": []
    },
    "gpuClass": "standard",
    "kernelspec": {
      "display_name": "Python 3",
      "language": "python",
      "name": "python3"
    },
    "language_info": {
      "codemirror_mode": {
        "name": "ipython",
        "version": 3
      },
      "file_extension": ".py",
      "mimetype": "text/x-python",
      "name": "python",
      "nbconvert_exporter": "python",
      "pygments_lexer": "ipython3",
      "version": "3.9.10"
    },
    "vscode": {
      "interpreter": {
        "hash": "230e0a82690fbd41c9d7142a830e49a58c4a64004ec283640fdb9192963ba62a"
      }
    },
    "widgets": {
      "application/vnd.jupyter.widget-state+json": {
        "2bfe6d90e72942d882bb081f14b76d25": {
          "model_module": "@jupyter-widgets/controls",
          "model_module_version": "1.5.0",
          "model_name": "ProgressStyleModel",
          "state": {
            "_model_module": "@jupyter-widgets/controls",
            "_model_module_version": "1.5.0",
            "_model_name": "ProgressStyleModel",
            "_view_count": null,
            "_view_module": "@jupyter-widgets/base",
            "_view_module_version": "1.2.0",
            "_view_name": "StyleView",
            "bar_color": null,
            "description_width": ""
          }
        },
        "32960afd706e4ffcb63e5f4bb87614b1": {
          "model_module": "@jupyter-widgets/controls",
          "model_module_version": "1.5.0",
          "model_name": "FloatProgressModel",
          "state": {
            "_dom_classes": [],
            "_model_module": "@jupyter-widgets/controls",
            "_model_module_version": "1.5.0",
            "_model_name": "FloatProgressModel",
            "_view_count": null,
            "_view_module": "@jupyter-widgets/controls",
            "_view_module_version": "1.5.0",
            "_view_name": "ProgressView",
            "bar_style": "success",
            "description": "",
            "description_tooltip": null,
            "layout": "IPY_MODEL_dd3ffa5d2d9b4ca6a7be2e73be3b0647",
            "max": 17428,
            "min": 0,
            "orientation": "horizontal",
            "style": "IPY_MODEL_2bfe6d90e72942d882bb081f14b76d25",
            "value": 17428
          }
        },
        "337bd93519be4998afc2bc5ed4b98658": {
          "model_module": "@jupyter-widgets/controls",
          "model_module_version": "1.5.0",
          "model_name": "DescriptionStyleModel",
          "state": {
            "_model_module": "@jupyter-widgets/controls",
            "_model_module_version": "1.5.0",
            "_model_name": "DescriptionStyleModel",
            "_view_count": null,
            "_view_module": "@jupyter-widgets/base",
            "_view_module_version": "1.2.0",
            "_view_name": "StyleView",
            "description_width": ""
          }
        },
        "59cca1b2462d4a1eade6d45882a4e3a5": {
          "model_module": "@jupyter-widgets/controls",
          "model_module_version": "1.5.0",
          "model_name": "HTMLModel",
          "state": {
            "_dom_classes": [],
            "_model_module": "@jupyter-widgets/controls",
            "_model_module_version": "1.5.0",
            "_model_name": "HTMLModel",
            "_view_count": null,
            "_view_module": "@jupyter-widgets/controls",
            "_view_module_version": "1.5.0",
            "_view_name": "HTMLView",
            "description": "",
            "description_tooltip": null,
            "layout": "IPY_MODEL_dd65414ecb2b4a118aee83c0ecfa2eb6",
            "placeholder": "​",
            "style": "IPY_MODEL_75850e5a3de44f0987bd09e22113c955",
            "value": " 17428/17428 [00:00&lt;00:00, 84300.08it/s]"
          }
        },
        "5c8f9ffa6e6c40b2a93bb5173ce364da": {
          "model_module": "@jupyter-widgets/base",
          "model_module_version": "1.2.0",
          "model_name": "LayoutModel",
          "state": {
            "_model_module": "@jupyter-widgets/base",
            "_model_module_version": "1.2.0",
            "_model_name": "LayoutModel",
            "_view_count": null,
            "_view_module": "@jupyter-widgets/base",
            "_view_module_version": "1.2.0",
            "_view_name": "LayoutView",
            "align_content": null,
            "align_items": null,
            "align_self": null,
            "border": null,
            "bottom": null,
            "display": null,
            "flex": null,
            "flex_flow": null,
            "grid_area": null,
            "grid_auto_columns": null,
            "grid_auto_flow": null,
            "grid_auto_rows": null,
            "grid_column": null,
            "grid_gap": null,
            "grid_row": null,
            "grid_template_areas": null,
            "grid_template_columns": null,
            "grid_template_rows": null,
            "height": null,
            "justify_content": null,
            "justify_items": null,
            "left": null,
            "margin": null,
            "max_height": null,
            "max_width": null,
            "min_height": null,
            "min_width": null,
            "object_fit": null,
            "object_position": null,
            "order": null,
            "overflow": null,
            "overflow_x": null,
            "overflow_y": null,
            "padding": null,
            "right": null,
            "top": null,
            "visibility": null,
            "width": null
          }
        },
        "75850e5a3de44f0987bd09e22113c955": {
          "model_module": "@jupyter-widgets/controls",
          "model_module_version": "1.5.0",
          "model_name": "DescriptionStyleModel",
          "state": {
            "_model_module": "@jupyter-widgets/controls",
            "_model_module_version": "1.5.0",
            "_model_name": "DescriptionStyleModel",
            "_view_count": null,
            "_view_module": "@jupyter-widgets/base",
            "_view_module_version": "1.2.0",
            "_view_name": "StyleView",
            "description_width": ""
          }
        },
        "9d06823db29a438282075dd64e49296e": {
          "model_module": "@jupyter-widgets/controls",
          "model_module_version": "1.5.0",
          "model_name": "HTMLModel",
          "state": {
            "_dom_classes": [],
            "_model_module": "@jupyter-widgets/controls",
            "_model_module_version": "1.5.0",
            "_model_name": "HTMLModel",
            "_view_count": null,
            "_view_module": "@jupyter-widgets/controls",
            "_view_module_version": "1.5.0",
            "_view_name": "HTMLView",
            "description": "",
            "description_tooltip": null,
            "layout": "IPY_MODEL_a0b39617e93d416cbf8d269858f2d680",
            "placeholder": "​",
            "style": "IPY_MODEL_337bd93519be4998afc2bc5ed4b98658",
            "value": "Resolving data files: 100%"
          }
        },
        "a0b39617e93d416cbf8d269858f2d680": {
          "model_module": "@jupyter-widgets/base",
          "model_module_version": "1.2.0",
          "model_name": "LayoutModel",
          "state": {
            "_model_module": "@jupyter-widgets/base",
            "_model_module_version": "1.2.0",
            "_model_name": "LayoutModel",
            "_view_count": null,
            "_view_module": "@jupyter-widgets/base",
            "_view_module_version": "1.2.0",
            "_view_name": "LayoutView",
            "align_content": null,
            "align_items": null,
            "align_self": null,
            "border": null,
            "bottom": null,
            "display": null,
            "flex": null,
            "flex_flow": null,
            "grid_area": null,
            "grid_auto_columns": null,
            "grid_auto_flow": null,
            "grid_auto_rows": null,
            "grid_column": null,
            "grid_gap": null,
            "grid_row": null,
            "grid_template_areas": null,
            "grid_template_columns": null,
            "grid_template_rows": null,
            "height": null,
            "justify_content": null,
            "justify_items": null,
            "left": null,
            "margin": null,
            "max_height": null,
            "max_width": null,
            "min_height": null,
            "min_width": null,
            "object_fit": null,
            "object_position": null,
            "order": null,
            "overflow": null,
            "overflow_x": null,
            "overflow_y": null,
            "padding": null,
            "right": null,
            "top": null,
            "visibility": null,
            "width": null
          }
        },
        "dd3ffa5d2d9b4ca6a7be2e73be3b0647": {
          "model_module": "@jupyter-widgets/base",
          "model_module_version": "1.2.0",
          "model_name": "LayoutModel",
          "state": {
            "_model_module": "@jupyter-widgets/base",
            "_model_module_version": "1.2.0",
            "_model_name": "LayoutModel",
            "_view_count": null,
            "_view_module": "@jupyter-widgets/base",
            "_view_module_version": "1.2.0",
            "_view_name": "LayoutView",
            "align_content": null,
            "align_items": null,
            "align_self": null,
            "border": null,
            "bottom": null,
            "display": null,
            "flex": null,
            "flex_flow": null,
            "grid_area": null,
            "grid_auto_columns": null,
            "grid_auto_flow": null,
            "grid_auto_rows": null,
            "grid_column": null,
            "grid_gap": null,
            "grid_row": null,
            "grid_template_areas": null,
            "grid_template_columns": null,
            "grid_template_rows": null,
            "height": null,
            "justify_content": null,
            "justify_items": null,
            "left": null,
            "margin": null,
            "max_height": null,
            "max_width": null,
            "min_height": null,
            "min_width": null,
            "object_fit": null,
            "object_position": null,
            "order": null,
            "overflow": null,
            "overflow_x": null,
            "overflow_y": null,
            "padding": null,
            "right": null,
            "top": null,
            "visibility": null,
            "width": null
          }
        },
        "dd65414ecb2b4a118aee83c0ecfa2eb6": {
          "model_module": "@jupyter-widgets/base",
          "model_module_version": "1.2.0",
          "model_name": "LayoutModel",
          "state": {
            "_model_module": "@jupyter-widgets/base",
            "_model_module_version": "1.2.0",
            "_model_name": "LayoutModel",
            "_view_count": null,
            "_view_module": "@jupyter-widgets/base",
            "_view_module_version": "1.2.0",
            "_view_name": "LayoutView",
            "align_content": null,
            "align_items": null,
            "align_self": null,
            "border": null,
            "bottom": null,
            "display": null,
            "flex": null,
            "flex_flow": null,
            "grid_area": null,
            "grid_auto_columns": null,
            "grid_auto_flow": null,
            "grid_auto_rows": null,
            "grid_column": null,
            "grid_gap": null,
            "grid_row": null,
            "grid_template_areas": null,
            "grid_template_columns": null,
            "grid_template_rows": null,
            "height": null,
            "justify_content": null,
            "justify_items": null,
            "left": null,
            "margin": null,
            "max_height": null,
            "max_width": null,
            "min_height": null,
            "min_width": null,
            "object_fit": null,
            "object_position": null,
            "order": null,
            "overflow": null,
            "overflow_x": null,
            "overflow_y": null,
            "padding": null,
            "right": null,
            "top": null,
            "visibility": null,
            "width": null
          }
        },
        "e4f78acdf3b94687ab81d58f77e52830": {
          "model_module": "@jupyter-widgets/controls",
          "model_module_version": "1.5.0",
          "model_name": "HBoxModel",
          "state": {
            "_dom_classes": [],
            "_model_module": "@jupyter-widgets/controls",
            "_model_module_version": "1.5.0",
            "_model_name": "HBoxModel",
            "_view_count": null,
            "_view_module": "@jupyter-widgets/controls",
            "_view_module_version": "1.5.0",
            "_view_name": "HBoxView",
            "box_style": "",
            "children": [
              "IPY_MODEL_9d06823db29a438282075dd64e49296e",
              "IPY_MODEL_32960afd706e4ffcb63e5f4bb87614b1",
              "IPY_MODEL_59cca1b2462d4a1eade6d45882a4e3a5"
            ],
            "layout": "IPY_MODEL_5c8f9ffa6e6c40b2a93bb5173ce364da"
          }
        }
      }
    }
  },
  "nbformat": 4,
  "nbformat_minor": 0
}
